{
 "cells": [
  {
   "cell_type": "markdown",
   "id": "08736aa9",
   "metadata": {},
   "source": [
    "# The Parity Problem\n",
    "You are given a function as a black box: $ f: \\{0, 1\\}^n \\rightarrow \\{0, 1\\}$ and $f(x) = u.x \\mod2$.\n",
    "\n",
    "For some hidden $u \\in \\{0, 1\\}^n$, find $u$ with as few queries as possible. This is a restricted version of the Deutsch–Jozsa algorithm where instead of distinguishing between two different classes of functions, it tries to learn a string encoded in a function. "
   ]
  },
  {
   "cell_type": "markdown",
   "id": "ddf7f17b",
   "metadata": {},
   "source": [
    "## A classical solution"
   ]
  },
  {
   "cell_type": "markdown",
   "id": "1c02f87f",
   "metadata": {},
   "source": [
    "![Classical Solution](bv.PNG \"A classical solution the parity problem\")"
   ]
  },
  {
   "cell_type": "markdown",
   "id": "37af1e17",
   "metadata": {},
   "source": [
    "We need $n$ queries to compute the hidden string, because each time you run this circuit, you get only one bit of information. \n",
    "For example: let the hidden string $u = 101 $.\n",
    "\n",
    "$$ f(100) = 1 $$ \n",
    "\n",
    "$$ f(010) = 0 $$\n",
    "\n",
    "$$ f(001) = 1 $$\n",
    "\n",
    "One possible solution to implement this classically is to use a classical AND gate as a mask to get each bit of information. "
   ]
  },
  {
   "cell_type": "markdown",
   "id": "ddae3510",
   "metadata": {},
   "source": [
    "## The Bernstein-Vazirani Algorithm\n",
    "In contrast to the classical solution, the quantum solution requires only one query to find the hidden $u$. This algorithm was invented by Ethan Bernstein and Umesh Vazirani in 1992. Your task is to implement this algorithm in Q#. You can read more about the algorithm [here](https://en.wikipedia.org/wiki/Bernstein%E2%80%93Vazirani_algorithm).\n",
    "![Quantum Solution](bv-q.PNG \"A quantum solution the parity problem\")\n",
    "\n",
    "The Bernstein-Vazirani algorithm is described as follows:\n",
    "1. Initialize n query qubits in the state $|0\\rangle$ and one answer qubit in the state $|-\\rangle$\n",
    "2. Apply the Hadamard Transform to an n-qubit query state to get $H|0\\rangle^{\\otimes n} =  \\frac{1}{2^{n/2}} \\sum_x |x> $.\n",
    "3. Apply the oracle $U_f$ which transforms the state to  $\\frac{1}{2^{n/2}} \\sum_x (-1)^{u.x} |x> $\n",
    "4. Apply the Hadamard Transform to the query state after the oracle is applied.\n",
    "5. Measure in the computational basis."
   ]
  },
  {
   "cell_type": "markdown",
   "id": "9267f073",
   "metadata": {},
   "source": [
    "## Task 1: Prepare a qubit state in a uniform superposition\n",
    "**Input**: n query qubits, one answer qubit \n",
    "\n",
    "**Goal**: Apply the hadamard transform to n qubits in state $|0\\rangle$. Convert the answer qubit into the state $|-\\rangle$ "
   ]
  },
  {
   "cell_type": "code",
   "execution_count": 80,
   "id": "919fda29",
   "metadata": {
    "scrolled": true
   },
   "outputs": [
    {
     "data": {
      "application/json": "[\"WalshHadamardTransform\"]",
      "text/html": [
       "<ul><li>WalshHadamardTransform</li></ul>"
      ],
      "text/plain": [
       "WalshHadamardTransform"
      ]
     },
     "execution_count": 80,
     "metadata": {},
     "output_type": "execute_result"
    }
   ],
   "source": [
    "operation WalshHadamardTransform(query: Qubit[], n: Int): Unit is Adj{\n",
    "    //use target = Qubit(); \n",
    "\n",
    "    ApplyToEachA(H, query);\n",
    "}"
   ]
  },
  {
   "cell_type": "code",
   "execution_count": null,
   "id": "8eed6189",
   "metadata": {},
   "outputs": [],
   "source": []
  },
  {
   "cell_type": "markdown",
   "id": "f45fe308",
   "metadata": {},
   "source": [
    "## Task 2: Prepare the answer qubit state in the state $|-\\rangle$\n",
    "**Input**: the answer qubit\n",
    "\n",
    "**Goal**: a state in $|-\\rangle$"
   ]
  },
  {
   "cell_type": "code",
   "execution_count": 81,
   "id": "7d85a1c4",
   "metadata": {},
   "outputs": [
    {
     "data": {
      "application/json": "[\"PrepareAnswerQubit\"]",
      "text/html": [
       "<ul><li>PrepareAnswerQubit</li></ul>"
      ],
      "text/plain": [
       "PrepareAnswerQubit"
      ]
     },
     "execution_count": 81,
     "metadata": {},
     "output_type": "execute_result"
    }
   ],
   "source": [
    "operation PrepareAnswerQubit(answer: Qubit): Unit {\n",
    "    X(answer);\n",
    "    H(answer);\n",
    "    \n",
    "//    CX(q[2],target);\n",
    "  //  CX(q[0],target);\n",
    "\n",
    "}"
   ]
  },
  {
   "cell_type": "markdown",
   "id": "5d8e51e3",
   "metadata": {},
   "source": [
    "## Task 3: Encode the secret string $u$ into a function $U_f$\n",
    "**Input**: query qubit array , n number of qubits, one answer qubit, secret string as a boolean array\n",
    "\n",
    "**Goal**: Encode the secret string (supplied as a boolean array s) as $U_f$. "
   ]
  },
  {
   "cell_type": "code",
   "execution_count": 73,
   "id": "36084d98",
   "metadata": {},
   "outputs": [
    {
     "data": {
      "application/json": "[\"Uf\"]",
      "text/html": [
       "<ul><li>Uf</li></ul>"
      ],
      "text/plain": [
       "Uf"
      ]
     },
     "execution_count": 73,
     "metadata": {},
     "output_type": "execute_result"
    }
   ],
   "source": [
    "operation Uf(query : Qubit[], n: Int, answer: Qubit, s: Bool[]): Unit {\n",
    "    //Your code here\n",
    "    CX(query[n], answer);\n",
    "    CX(query[n-2], answer);\n",
    "    \n",
    "}"
   ]
  },
  {
   "cell_type": "markdown",
   "id": "2bd882bc",
   "metadata": {},
   "source": [
    "## Task 4: Explain what gates you applied to create the encoded string as $U_f$ and why you applied them."
   ]
  },
  {
   "cell_type": "markdown",
   "id": "ad06528a",
   "metadata": {},
   "source": [
    "Applied CNOT gate to create the encoded string, because it acts like an AND gate to determine to determine each character for 0 or 1."
   ]
  },
  {
   "cell_type": "markdown",
   "id": "76c61fdd",
   "metadata": {},
   "source": [
    "## Task 5: Run the Bernstein-Vazirani Algorithm\n",
    "\n",
    "1. Create the secret string, and the required qubits\n",
    "1. Perform the Bernstein Vazirani algorithm by using the tasks above\n",
    "1. Measure the resulting query qubits. \n",
    "1. Transform the query results into an integer array which should give you the secret string. Return this integer array."
   ]
  },
  {
   "cell_type": "code",
   "execution_count": 90,
   "id": "b4efdfc2",
   "metadata": {},
   "outputs": [
    {
     "data": {
      "application/json": "[\"BernsteinVazirani\"]",
      "text/html": [
       "<ul><li>BernsteinVazirani</li></ul>"
      ],
      "text/plain": [
       "BernsteinVazirani"
      ]
     },
     "execution_count": 90,
     "metadata": {},
     "output_type": "execute_result"
    }
   ],
   "source": [
    "operation BernsteinVazirani () : Int [] {\n",
    "    let result = new Int[3]; //Change the size according to the size of your secret string\n",
    "    // Your code here \n",
    "    let s = 101;\n",
    "    use query = Qubit[3];\n",
    "    use answer = Qubit();\n",
    "    \n",
    "    WalshHadamardTransform(query, 3);\n",
    "    PrepareAnswerQubit(answer);\n",
    "    Uf(query, 3, answer, s);\n",
    "    \n",
    "    return result;\n",
    "}"
   ]
  }
 ],
 "metadata": {
  "kernelspec": {
   "display_name": "Q#",
   "language": "qsharp",
   "name": "iqsharp"
  },
  "language_info": {
   "file_extension": ".qs",
   "mimetype": "text/x-qsharp",
   "name": "qsharp",
   "version": "0.14"
  }
 },
 "nbformat": 4,
 "nbformat_minor": 5
}
